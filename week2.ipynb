{
 "cells": [
  {
   "cell_type": "code",
   "execution_count": 1,
   "id": "5e441e4d-4211-4f44-b62e-814addc89d29",
   "metadata": {},
   "outputs": [
    {
     "name": "stdout",
     "output_type": "stream",
     "text": [
      "Hello  World\n"
     ]
    }
   ],
   "source": [
    "print(\"Hello  World\")"
   ]
  },
  {
   "cell_type": "code",
   "execution_count": 4,
   "id": "abc7dcd5-5a63-40a9-a53e-b2ad534fb2a0",
   "metadata": {},
   "outputs": [
    {
     "name": "stdout",
     "output_type": "stream",
     "text": [
      "Hello\n",
      "\n",
      "\n"
     ]
    }
   ],
   "source": [
    "print(\"Hello\", end=\"\\n\\n\\n\")"
   ]
  },
  {
   "cell_type": "code",
   "execution_count": 6,
   "id": "c832bf66-2fcf-46dc-b00c-5411f01fa295",
   "metadata": {},
   "outputs": [
    {
     "name": "stdout",
     "output_type": "stream",
     "text": [
      "Hello\n",
      "\n",
      "\n",
      "Word\n"
     ]
    }
   ],
   "source": [
    "print(\"Hello\", end=\"\\n\\n\\n\")\n",
    "print(\"Word\")"
   ]
  },
  {
   "cell_type": "code",
   "execution_count": 8,
   "id": "5e37f7f4-0ea5-4555-acd7-1bb7278ddb35",
   "metadata": {},
   "outputs": [
    {
     "name": "stdout",
     "output_type": "stream",
     "text": [
      "Hello World\n"
     ]
    }
   ],
   "source": [
    "print(\"Hello\", \"World\", sep=\" \")"
   ]
  },
  {
   "cell_type": "code",
   "execution_count": 9,
   "id": "344b34ae-da32-4dfe-8b82-e5f742c18d55",
   "metadata": {},
   "outputs": [
    {
     "name": "stdout",
     "output_type": "stream",
     "text": [
      "Hello!World\n"
     ]
    }
   ],
   "source": [
    "print(\"Hello\", \"World\", sep=\"!\")"
   ]
  },
  {
   "cell_type": "code",
   "execution_count": 10,
   "id": "2c91fa58-7f55-4673-ad21-f3d610bea3ea",
   "metadata": {},
   "outputs": [
    {
     "name": "stdout",
     "output_type": "stream",
     "text": [
      "Hello\n",
      "World\n"
     ]
    }
   ],
   "source": [
    "print(\"Hello\")\n",
    "print(\"World\")"
   ]
  },
  {
   "cell_type": "code",
   "execution_count": 15,
   "id": "db0b6084-7f60-4005-a857-cb1c6507e9fe",
   "metadata": {},
   "outputs": [
    {
     "name": "stdout",
     "output_type": "stream",
     "text": [
      "Hello\n",
      "World\n"
     ]
    }
   ],
   "source": [
    "print(\"Hello\", end=\"\\n\")\n",
    "print(\"World\")"
   ]
  },
  {
   "cell_type": "code",
   "execution_count": 17,
   "id": "8ea2206c-bb24-43df-b9da-df8f5555de8d",
   "metadata": {},
   "outputs": [
    {
     "name": "stdout",
     "output_type": "stream",
     "text": [
      "Hello\n",
      "\n",
      "\n",
      "World\n"
     ]
    }
   ],
   "source": [
    "print(\"Hello\", end=\"\\n\\n\\n\")\n",
    "print(\"World\")"
   ]
  },
  {
   "cell_type": "code",
   "execution_count": 24,
   "id": "7bb32c3d-0592-4cef-b6b7-9355226f130e",
   "metadata": {},
   "outputs": [
    {
     "name": "stdout",
     "output_type": "stream",
     "text": [
      "100\n",
      "1000.0\n",
      "sdlkfjl\n",
      "<class 'int'>\n"
     ]
    }
   ],
   "source": [
    "my_variable_integer = 100\n",
    "my_variable_float = 1000.0\n",
    "my_variable_string = \"sdlkfjl\"\n",
    "\n",
    "print(my_variable_integer)\n",
    "print(my_variable_float)\n",
    "print(my_variable_string)\n",
    "print(type(my_variable_integer))\n"
   ]
  },
  {
   "cell_type": "code",
   "execution_count": 26,
   "id": "1022834e-2d64-4d38-8bef-08c274201638",
   "metadata": {},
   "outputs": [
    {
     "name": "stdout",
     "output_type": "stream",
     "text": [
      "<class 'int'>\n"
     ]
    }
   ],
   "source": [
    "print(type(my_variable_integer))"
   ]
  },
  {
   "cell_type": "code",
   "execution_count": 27,
   "id": "4fc8104c-c900-4dba-9514-c00811d13cb2",
   "metadata": {},
   "outputs": [
    {
     "name": "stdout",
     "output_type": "stream",
     "text": [
      "<class 'float'>\n"
     ]
    }
   ],
   "source": [
    "print(type(my_variable_float))"
   ]
  },
  {
   "cell_type": "code",
   "execution_count": 28,
   "id": "ec2e3ffb-2101-4f20-ab9b-7a801791a9ce",
   "metadata": {},
   "outputs": [
    {
     "name": "stdout",
     "output_type": "stream",
     "text": [
      "10\n"
     ]
    }
   ],
   "source": [
    "x=10\n",
    "y=11\n",
    "z=5434\n",
    "print(x)"
   ]
  },
  {
   "cell_type": "code",
   "execution_count": 31,
   "id": "247fe973-d911-4e78-b5ff-f52c708c5b08",
   "metadata": {},
   "outputs": [
    {
     "name": "stdout",
     "output_type": "stream",
     "text": [
      "32\n"
     ]
    }
   ],
   "source": [
    "number_of_students=10\n",
    "number_of_teachers=22\n",
    "number_of_students_and_teachers=number_of_students + number_of_teachers\n",
    "print(number_of_students_and_teachers)"
   ]
  },
  {
   "cell_type": "code",
   "execution_count": 71,
   "id": "6d9c8c9f-31ee-4d64-87c0-d7bee5cc036b",
   "metadata": {},
   "outputs": [
    {
     "name": "stdout",
     "output_type": "stream",
     "text": [
      "String: LoveCellularAutomata\n"
     ]
    }
   ],
   "source": [
    "mystring = \"LoveCellularAutomata\"\n",
    "myfloat = 3.0\n",
    "myint = 2\n",
    "\n",
    "if mystring == \"LoveCellularAutomata\":\n",
    "    print(\"String: %s\" % mystring)\n"
   ]
  },
  {
   "cell_type": "code",
   "execution_count": 70,
   "id": "dc1496a5-1ee6-4f8f-976e-1ad212d25c46",
   "metadata": {},
   "outputs": [
    {
     "name": "stdout",
     "output_type": "stream",
     "text": [
      "float = 3.000000\n"
     ]
    }
   ],
   "source": [
    "my_float = 3.0\n",
    "if my_float == 3.0 :\n",
    "    print(\"float = %f\" % my_float) "
   ]
  },
  {
   "cell_type": "code",
   "execution_count": 73,
   "id": "bcd29636-4e07-4633-b657-0d12146e5d65",
   "metadata": {},
   "outputs": [
    {
     "name": "stdout",
     "output_type": "stream",
     "text": [
      "integer = 2\n"
     ]
    }
   ],
   "source": [
    "if myint == 2 :\n",
    "    print(\"integer = %d\" %myint)"
   ]
  },
  {
   "cell_type": "code",
   "execution_count": 34,
   "id": "7d05dbb6-ca71-4935-9953-e2b673c5e1bf",
   "metadata": {},
   "outputs": [],
   "source": [
    "# %d - integer, %f - float, %s - string, %h - hexadecimal, %o - octal' %r - raw data,\n"
   ]
  },
  {
   "cell_type": "code",
   "execution_count": 53,
   "id": "44473712-b9f5-4517-b405-fb1c27d252ad",
   "metadata": {},
   "outputs": [
    {
     "name": "stdout",
     "output_type": "stream",
     "text": [
      "string: 15\n"
     ]
    }
   ],
   "source": [
    "variable = '15'\n",
    "string = \"string: %s\" %(variable) \n",
    "print (string)"
   ]
  },
  {
   "cell_type": "code",
   "execution_count": 79,
   "id": "6daa0329-7d21-4a88-9a4f-5c5ab575b5e8",
   "metadata": {},
   "outputs": [
    {
     "name": "stdout",
     "output_type": "stream",
     "text": [
      "variable as string = 15.00\n"
     ]
    }
   ],
   "source": [
    "variable = '15.00'\n",
    "print(\"variable as string = %s\" %(variable))\n"
   ]
  },
  {
   "cell_type": "code",
   "execution_count": 82,
   "id": "3b725368-099b-4da3-9bb5-fda5b53dc635",
   "metadata": {},
   "outputs": [
    {
     "name": "stdout",
     "output_type": "stream",
     "text": [
      "variable as float = 3.000000\n"
     ]
    }
   ],
   "source": [
    "variable =  3.0\n",
    "print(\"variable as float = %f\" %variable)"
   ]
  },
  {
   "cell_type": "code",
   "execution_count": 87,
   "id": "1b2c65c2-18ca-4915-a3f4-2b9e5090a5ff",
   "metadata": {},
   "outputs": [
    {
     "name": "stdout",
     "output_type": "stream",
     "text": [
      "lets talk about Esra\n",
      "she is 1.900000 meter talls\n"
     ]
    }
   ],
   "source": [
    "my_name = 'Esra'\n",
    "print('lets talk about %s' %my_name)\n",
    "my_hight = 1.90\n",
    "print('she is %f meter talls' %my_hight)"
   ]
  },
  {
   "cell_type": "markdown",
   "id": "cd360dbe-c2ff-4474-858b-17b56594094b",
   "metadata": {},
   "source": []
  }
 ],
 "metadata": {
  "kernelspec": {
   "display_name": "Python 3 (ipykernel)",
   "language": "python",
   "name": "python3"
  },
  "language_info": {
   "codemirror_mode": {
    "name": "ipython",
    "version": 3
   },
   "file_extension": ".py",
   "mimetype": "text/x-python",
   "name": "python",
   "nbconvert_exporter": "python",
   "pygments_lexer": "ipython3",
   "version": "3.12.7"
  }
 },
 "nbformat": 4,
 "nbformat_minor": 5
}
